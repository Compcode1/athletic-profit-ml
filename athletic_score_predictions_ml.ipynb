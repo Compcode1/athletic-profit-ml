{
 "cells": [
  {
   "cell_type": "code",
   "execution_count": 6,
   "metadata": {},
   "outputs": [
    {
     "name": "stdout",
     "output_type": "stream",
     "text": [
      "First 3 Rows of the Dataset:\n",
      "    BP   LP  BIKE Grade  Offense  Defense\n",
      "0  251  456     9     C       83       68\n",
      "1  292  445    11     A       89      100\n",
      "2  214  535    10     A       94       96\n",
      "\n",
      "Percentage of Grades in the Dataset:\n",
      "Grade\n",
      "C    41.43\n",
      "B    37.36\n",
      "A    21.21\n",
      "Name: proportion, dtype: float64\n"
     ]
    }
   ],
   "source": [
    "import pandas as pd\n",
    "import numpy as np\n",
    "\n",
    "# Set the number of rows\n",
    "n = 10000\n",
    "\n",
    "# Create the dataset with BP, LP, and BIKE columns\n",
    "np.random.seed(42)\n",
    "df_new = pd.DataFrame({\n",
    "    'BP': np.random.randint(200, 301, size=n),  # BP values between 200 and 300 inclusive\n",
    "    'LP': np.random.randint(400, 576, size=n),  # LP values between 400 and 575 inclusive\n",
    "    'BIKE': np.random.randint(9, 12, size=n)    # BIKE values between 9 and 11 inclusive\n",
    "})\n",
    "\n",
    "# Function to assign group based on conditions\n",
    "def assign_group_new(row):\n",
    "    if row['BP'] >= 270 and row['LP'] >= 550 and row['BIKE'] >= 9:\n",
    "        return 6\n",
    "    elif row['BP'] >= 225 and row['LP'] >= 475 and row['BIKE'] >= 11:\n",
    "        return 7\n",
    "    elif row['BP'] >= 245 and row['LP'] >= 500 and row['BIKE'] >= 10:\n",
    "        return 4\n",
    "    elif row['BP'] >= 230 and row['LP'] >= 500 and row['BIKE'] >= 10:\n",
    "        return 3\n",
    "    elif row['BP'] >= 220 and row['LP'] >= 470 and row['BIKE'] >= 10:\n",
    "        return 2\n",
    "    elif row['BP'] >= 200 and row['LP'] >= 400 and row['BIKE'] >= 11:\n",
    "        return 5\n",
    "    elif row['BP'] >= 200 and row['LP'] >= 400 and row['BIKE'] >= 9:\n",
    "        return 1\n",
    "    else:\n",
    "        return None  # No group assigned if conditions not met\n",
    "\n",
    "# Assign groups to the dataset\n",
    "df_new['Group'] = df_new.apply(assign_group_new, axis=1)\n",
    "\n",
    "# Probability distributions for each group\n",
    "group_probabilities_new = {\n",
    "    1: [0.1, 0.3, 0.6],\n",
    "    2: [0.2, 0.35, 0.45],\n",
    "    3: [0.35, 0.3, 0.35],\n",
    "    4: [0.4, 0.3, 0.3],\n",
    "    5: [0.3, 0.6, 0.1],\n",
    "    6: [0.3, 0.3, 0.4],\n",
    "    7: [0.4, 0.45, 0.15]\n",
    "}\n",
    "\n",
    "# Function to assign grade based on group and probabilities\n",
    "def assign_grade_new(group):\n",
    "    if pd.isna(group):\n",
    "        return None\n",
    "    return np.random.choice(['A', 'B', 'C'], p=group_probabilities_new[group])\n",
    "\n",
    "# Assign grades to the dataset\n",
    "df_new['Grade'] = df_new['Group'].apply(assign_grade_new)\n",
    "\n",
    "# Add 'Offense' and 'Defense' columns based on 'Grade'\n",
    "def assign_offense_defense(grade):\n",
    "    if grade == 'A':\n",
    "        offense = np.random.randint(85, 101)\n",
    "        defense = np.random.randint(90, 101)\n",
    "    elif grade == 'B':\n",
    "        offense = np.random.randint(85, 96)\n",
    "        defense = np.random.randint(80, 100)\n",
    "    elif grade == 'C':\n",
    "        offense = np.random.randint(70, 86)\n",
    "        defense = np.random.randint(65, 86)\n",
    "    else:\n",
    "        offense, defense = None, None\n",
    "    return offense, defense\n",
    "\n",
    "# Apply the offense and defense assignment function to the dataset\n",
    "df_new[['Offense', 'Defense']] = df_new['Grade'].apply(assign_offense_defense).apply(pd.Series)\n",
    "\n",
    "# Remove the 'Group' column, leaving only BP, LP, BIKE, Grade, Offense, and Defense\n",
    "df_new = df_new.drop(columns=['Group'])\n",
    "\n",
    "# Display the first 3 rows\n",
    "print(\"First 3 Rows of the Dataset:\")\n",
    "print(df_new.head(3))\n",
    "\n",
    "# Calculate percentage of each grade in the dataset\n",
    "grade_counts = df_new['Grade'].value_counts(normalize=True) * 100\n",
    "print(\"\\nPercentage of Grades in the Dataset:\")\n",
    "print(grade_counts)\n"
   ]
  },
  {
   "cell_type": "code",
   "execution_count": 7,
   "metadata": {},
   "outputs": [
    {
     "name": "stdout",
     "output_type": "stream",
     "text": [
      "Mean Values for BP, LP, BIKE, Offense, and Defense:\n",
      "BP         249.8988\n",
      "LP         486.5342\n",
      "BIKE        10.0091\n",
      "Offense     85.3519\n",
      "Defense     84.6559\n",
      "dtype: float64\n"
     ]
    }
   ],
   "source": [
    "# Calculate the mean for BP, LP, BIKE, Offense, and Defense\n",
    "mean_values = df_new[['BP', 'LP', 'BIKE', 'Offense', 'Defense']].mean()\n",
    "\n",
    "# Display the mean values\n",
    "print(\"Mean Values for BP, LP, BIKE, Offense, and Defense:\")\n",
    "print(mean_values)\n"
   ]
  },
  {
   "cell_type": "code",
   "execution_count": 8,
   "metadata": {},
   "outputs": [
    {
     "name": "stdout",
     "output_type": "stream",
     "text": [
      "Dataset has been saved to: /Users/steventuschman/Desktop/training_dataset.csv\n"
     ]
    }
   ],
   "source": [
    "# Define the file path for saving the CSV file (update the path for your system)\n",
    "file_path = '/Users/steventuschman/Desktop/training_dataset.csv'\n",
    "\n",
    "# Save the DataFrame to a CSV file\n",
    "df_new.to_csv(file_path, index=False)\n",
    "\n",
    "print(f\"Dataset has been saved to: {file_path}\")\n"
   ]
  }
 ],
 "metadata": {
  "kernelspec": {
   "display_name": "Python 3",
   "language": "python",
   "name": "python3"
  },
  "language_info": {
   "codemirror_mode": {
    "name": "ipython",
    "version": 3
   },
   "file_extension": ".py",
   "mimetype": "text/x-python",
   "name": "python",
   "nbconvert_exporter": "python",
   "pygments_lexer": "ipython3",
   "version": "3.12.3"
  }
 },
 "nbformat": 4,
 "nbformat_minor": 2
}
